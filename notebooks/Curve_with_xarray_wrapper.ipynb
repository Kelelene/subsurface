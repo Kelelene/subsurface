{
 "cells": [
  {
   "cell_type": "markdown",
   "metadata": {},
   "source": [
    "# Curve with `xarray`"
   ]
  },
  {
   "cell_type": "code",
   "execution_count": 3,
   "metadata": {},
   "outputs": [],
   "source": [
    "import lasio"
   ]
  },
  {
   "cell_type": "code",
   "execution_count": 4,
   "metadata": {},
   "outputs": [],
   "source": [
    "l = lasio.read('P-129_out.LAS')"
   ]
  },
  {
   "cell_type": "markdown",
   "metadata": {},
   "source": [
    "## Class definition"
   ]
  },
  {
   "cell_type": "code",
   "execution_count": 5,
   "metadata": {},
   "outputs": [
    {
     "name": "stderr",
     "output_type": "stream",
     "text": [
      "/home/matt/anaconda3/envs/geocomp/lib/python3.7/site-packages/dask/config.py:168: YAMLLoadWarning: calling yaml.load() without Loader=... is deprecated, as the default Loader is unsafe. Please read https://msg.pyyaml.org/load for full details.\n",
      "  data = yaml.load(f.read()) or {}\n"
     ]
    }
   ],
   "source": [
    "# -*- coding: utf 8 -*-\n",
    "\"\"\"\n",
    "Python installation file.\n",
    "\"\"\"\n",
    "import xarray as xr\n",
    "import numpy as np\n",
    "\n",
    "class CurveError(Exception):\n",
    "    pass\n",
    "\n",
    "class Curve(object):\n",
    "\n",
    "    def __init__(self, data, basis=None, basis_kind='MD', params=None):\n",
    "        \"\"\"Seismic data object based on xarray.DataArray.\n",
    "        \n",
    "        Args:\n",
    "            data (Array): np.ndarray of the log curve.\n",
    "        \"\"\"\n",
    "        self.start = params.get('start', 0)\n",
    "        self.step = params.get('step', 1)\n",
    "        self.mnemonic = params.get('mnemonic', None)\n",
    "        self.units = params.get('units', None)\n",
    "        self.run = params.get('run', 0)\n",
    "        self.null = params.get('null', -999.25)\n",
    "        self.service_company = params.get('service_company', None)\n",
    "        self.date = params.get('date', None)\n",
    "        self.code = params.get('code', None)\n",
    "\n",
    "        self._xarray = xr.DataArray(data, coords=[basis], dims=[basis_kind], name=self.mnemonic)\n",
    "        return\n",
    "        \n",
    "    def __getattr__(self, attr):\n",
    "        \"\"\"\n",
    "        Passes methods through to the xarray.DataArray object.\n",
    "        \"\"\"\n",
    "        if attr in self.__dict__:\n",
    "            return getattr(self, attr)\n",
    "        return getattr(self._xarray, attr)\n",
    "    \n",
    "    def __getitem__(self, item):\n",
    "        \"\"\"\n",
    "        Get items with keys.\n",
    "        \"\"\"\n",
    "        # Deal with string key.\n",
    "        return self._xarray.__getitem__(item)\n",
    "\n",
    "#         # Deal with slice key.\n",
    "#         if isinstance(item, slice):\n",
    "#             return self._xarray._getitem_coord(item)\n",
    "\n",
    "#         # Preserve coordinates.\n",
    "#         cp = list(self._xarray.coords.items())  # parent coordinates\n",
    "#         coords = [(cp[i]) for i, it in enumerate(item) if not type(it) == int]\n",
    "#         return Curve(self._xarray[item].data, coords=coords)\n",
    "\n",
    "    def __copy__(self):\n",
    "        cls = self.__class__\n",
    "        result = cls.__new__(cls)\n",
    "        result.__dict__.update(self.__dict__)\n",
    "        return result\n",
    "    \n",
    "    def describe(self):\n",
    "        \"\"\"\n",
    "        Return basic statistics about the curve.\n",
    "        \"\"\"\n",
    "        stats = {}\n",
    "        stats['samples'] = self.shape[0]\n",
    "        stats['nulls'] = self[np.isnan(self)].shape[0]\n",
    "        stats['mean'] = float(np.nanmean(self.real))\n",
    "        stats['min'] = float(np.nanmin(self.real))\n",
    "        stats['max'] = float(np.nanmax(self.real))\n",
    "        return stats\n",
    "\n",
    "    get_stats = describe\n",
    "\n",
    "\n",
    "\n",
    "    def _repr_html_(self):\n",
    "        \"\"\"\n",
    "        Jupyter Notebook magic repr function.\n",
    "        \"\"\"\n",
    "        if self.size < 10:\n",
    "            return np.ndarray.__repr__(self)\n",
    "        attribs = self.__dict__.copy()\n",
    "\n",
    "        # Header.\n",
    "        row1 = '<tr><th style=\"text-align:center;\" colspan=\"2\">{} [{{}}]</th></tr>'\n",
    "        rows = row1.format(attribs.pop('mnemonic'))\n",
    "        rows = rows.format(attribs.pop('units', '&ndash;'))\n",
    "        row2 = '<tr><td style=\"text-align:center;\" colspan=\"2\">{:.4f} : {:.4f} : {:.4f}</td></tr>'\n",
    "        rows += row2.format(attribs.pop('start'), self.stop, attribs.pop('step'))\n",
    "\n",
    "        # Curve attributes.\n",
    "        s = '<tr><td><strong>{k}</strong></td><td>{v}</td></tr>'\n",
    "        for k, v in attribs.items():\n",
    "            rows += s.format(k=k, v=v)\n",
    "\n",
    "        # Curve stats.\n",
    "        rows += '<tr><th style=\"border-top: 2px solid #000; text-align:center;\" colspan=\"2\"><strong>Stats</strong></th></tr>'\n",
    "        stats = self.get_stats()\n",
    "        s = '<tr><td><strong>samples (NaNs)</strong></td><td>{samples} ({nulls})</td></tr>'\n",
    "        s += '<tr><td><strong><sub>min</sub> mean <sup>max</sup></strong></td>'\n",
    "        s += '<td><sub>{min:.2f}</sub> {mean:.3f} <sup>{max:.2f}</sup></td></tr>'\n",
    "        rows += s.format(**stats)\n",
    "\n",
    "        # Curve preview.\n",
    "        s = '<tr><th style=\"border-top: 2px solid #000;\">Depth</th><th style=\"border-top: 2px solid #000;\">Value</th></tr>'\n",
    "        rows += s.format(self.start, self[0])\n",
    "        s = '<tr><td>{:.4f}</td><td>{:.4f}</td></tr>'\n",
    "        for depth, value in zip(self.basis[:3], self[:3]):\n",
    "            rows += s.format(depth, value)\n",
    "        rows += '<tr><td>⋮</td><td>⋮</td></tr>'\n",
    "        for depth, value in zip(self.basis[-3:], self[-3:]):\n",
    "            rows += s.format(depth, value)\n",
    "\n",
    "        # Footer.\n",
    "        # ...\n",
    "\n",
    "        # End.\n",
    "        html = '<table>{}</table>'.format(rows)\n",
    "        return html\n",
    "\n",
    "#     @property\n",
    "#     def values(self):\n",
    "#         return np.array(self)\n",
    "\n",
    "    @property\n",
    "    def basis(self):\n",
    "        return self.coords['MD'].values\n",
    "\n",
    "    @property\n",
    "    def stop(self):\n",
    "        \"\"\"\n",
    "        The stop depth. Computed on the fly from the start,\n",
    "        the step, and the length of the curve.\n",
    "        \"\"\"\n",
    "        return self.start + (self.shape[0] - 1) * self.step\n",
    "\n",
    "    def describe(self):\n",
    "        \"\"\"\n",
    "        Return basic statistics about the curve.\n",
    "        \"\"\"\n",
    "        stats = {}\n",
    "        stats['samples'] = self.shape[0]\n",
    "        stats['nulls'] = self[np.isnan(self)].shape[0]\n",
    "        stats['mean'] = float(np.nanmean(self.real))\n",
    "        stats['min'] = float(np.nanmin(self.real))\n",
    "        stats['max'] = float(np.nanmax(self.real))\n",
    "        return stats\n",
    "\n",
    "    def get_alias(self, alias):\n",
    "        \"\"\"\n",
    "        Given a mnemonic, get the alias name(s) it falls under. If there aren't\n",
    "        any, you get an empty list.\n",
    "        \"\"\"\n",
    "        alias = alias or {}\n",
    "        return [k for k, v in alias.items() if self.mnemonic in v]\n",
    "\n",
    "\n",
    "def from_las():\n",
    "    \"\"\"\n",
    "    Instantiate a Curve object from a SEG-Y file.\n",
    "    \"\"\"\n",
    "\n",
    "def from_lasio_curve(curve,\n",
    "                        depth=None,\n",
    "                        basis=None,\n",
    "                        start=None,\n",
    "                        stop=None,\n",
    "                        step=0.1524,\n",
    "                        run=-1,\n",
    "                        null=-999.25,\n",
    "                        service_company=None,\n",
    "                        date=None):\n",
    "    \"\"\"\n",
    "    Makes a curve object from a lasio curve object and either a depth\n",
    "    basis or start and step information.\n",
    "\n",
    "    Args:\n",
    "        curve (ndarray)\n",
    "        depth (ndarray)\n",
    "        basis (ndarray)\n",
    "        start (float)\n",
    "        stop (float)\n",
    "        step (float): default: 0.1524\n",
    "        run (int): default: -1\n",
    "        null (float): default: -999.25\n",
    "        service_company (str): Optional.\n",
    "        data (str): Optional.\n",
    "\n",
    "    Returns:\n",
    "        Curve. An instance of the class.\n",
    "    \"\"\"\n",
    "    data = curve.data\n",
    "    unit = curve.unit\n",
    "\n",
    "    step = basis[1] - basis[0]\n",
    "    start = basis[0]\n",
    "\n",
    "    params = {}\n",
    "    params['mnemonic'] = curve.mnemonic\n",
    "    params['description'] = curve.descr\n",
    "    params['start'] = start\n",
    "    params['step'] = step\n",
    "    params['units'] = unit\n",
    "    params['run'] = run\n",
    "    params['null'] = null\n",
    "    params['service_company'] = service_company\n",
    "    params['date'] = date\n",
    "    params['code'] = curve.API_code\n",
    "\n",
    "    return Curve(data, basis, params=params)\n",
    "\n"
   ]
  },
  {
   "cell_type": "code",
   "execution_count": 6,
   "metadata": {},
   "outputs": [],
   "source": [
    "c = from_lasio_curve(l.curves.DT, basis=l.curves.DEPT.data)"
   ]
  },
  {
   "cell_type": "code",
   "execution_count": 7,
   "metadata": {},
   "outputs": [
    {
     "ename": "TypeError",
     "evalue": "unsupported format string passed to DataArray.__format__",
     "output_type": "error",
     "traceback": [
      "\u001b[0;31m---------------------------------------------------------------------------\u001b[0m",
      "\u001b[0;31mTypeError\u001b[0m                                 Traceback (most recent call last)",
      "\u001b[0;32m~/anaconda3/envs/geocomp/lib/python3.7/site-packages/IPython/core/formatters.py\u001b[0m in \u001b[0;36m__call__\u001b[0;34m(self, obj)\u001b[0m\n\u001b[1;32m    343\u001b[0m             \u001b[0mmethod\u001b[0m \u001b[0;34m=\u001b[0m \u001b[0mget_real_method\u001b[0m\u001b[0;34m(\u001b[0m\u001b[0mobj\u001b[0m\u001b[0;34m,\u001b[0m \u001b[0mself\u001b[0m\u001b[0;34m.\u001b[0m\u001b[0mprint_method\u001b[0m\u001b[0;34m)\u001b[0m\u001b[0;34m\u001b[0m\u001b[0;34m\u001b[0m\u001b[0m\n\u001b[1;32m    344\u001b[0m             \u001b[0;32mif\u001b[0m \u001b[0mmethod\u001b[0m \u001b[0;32mis\u001b[0m \u001b[0;32mnot\u001b[0m \u001b[0;32mNone\u001b[0m\u001b[0;34m:\u001b[0m\u001b[0;34m\u001b[0m\u001b[0;34m\u001b[0m\u001b[0m\n\u001b[0;32m--> 345\u001b[0;31m                 \u001b[0;32mreturn\u001b[0m \u001b[0mmethod\u001b[0m\u001b[0;34m(\u001b[0m\u001b[0;34m)\u001b[0m\u001b[0;34m\u001b[0m\u001b[0;34m\u001b[0m\u001b[0m\n\u001b[0m\u001b[1;32m    346\u001b[0m             \u001b[0;32mreturn\u001b[0m \u001b[0;32mNone\u001b[0m\u001b[0;34m\u001b[0m\u001b[0;34m\u001b[0m\u001b[0m\n\u001b[1;32m    347\u001b[0m         \u001b[0;32melse\u001b[0m\u001b[0;34m:\u001b[0m\u001b[0;34m\u001b[0m\u001b[0;34m\u001b[0m\u001b[0m\n",
      "\u001b[0;32m<ipython-input-5-00ed74093c68>\u001b[0m in \u001b[0;36m_repr_html_\u001b[0;34m(self)\u001b[0m\n\u001b[1;32m    109\u001b[0m         \u001b[0ms\u001b[0m \u001b[0;34m=\u001b[0m \u001b[0;34m'<tr><td>{:.4f}</td><td>{:.4f}</td></tr>'\u001b[0m\u001b[0;34m\u001b[0m\u001b[0;34m\u001b[0m\u001b[0m\n\u001b[1;32m    110\u001b[0m         \u001b[0;32mfor\u001b[0m \u001b[0mdepth\u001b[0m\u001b[0;34m,\u001b[0m \u001b[0mvalue\u001b[0m \u001b[0;32min\u001b[0m \u001b[0mzip\u001b[0m\u001b[0;34m(\u001b[0m\u001b[0mself\u001b[0m\u001b[0;34m.\u001b[0m\u001b[0mbasis\u001b[0m\u001b[0;34m[\u001b[0m\u001b[0;34m:\u001b[0m\u001b[0;36m3\u001b[0m\u001b[0;34m]\u001b[0m\u001b[0;34m,\u001b[0m \u001b[0mself\u001b[0m\u001b[0;34m[\u001b[0m\u001b[0;34m:\u001b[0m\u001b[0;36m3\u001b[0m\u001b[0;34m]\u001b[0m\u001b[0;34m)\u001b[0m\u001b[0;34m:\u001b[0m\u001b[0;34m\u001b[0m\u001b[0;34m\u001b[0m\u001b[0m\n\u001b[0;32m--> 111\u001b[0;31m             \u001b[0mrows\u001b[0m \u001b[0;34m+=\u001b[0m \u001b[0ms\u001b[0m\u001b[0;34m.\u001b[0m\u001b[0mformat\u001b[0m\u001b[0;34m(\u001b[0m\u001b[0mdepth\u001b[0m\u001b[0;34m,\u001b[0m \u001b[0mvalue\u001b[0m\u001b[0;34m)\u001b[0m\u001b[0;34m\u001b[0m\u001b[0;34m\u001b[0m\u001b[0m\n\u001b[0m\u001b[1;32m    112\u001b[0m         \u001b[0mrows\u001b[0m \u001b[0;34m+=\u001b[0m \u001b[0;34m'<tr><td>⋮</td><td>⋮</td></tr>'\u001b[0m\u001b[0;34m\u001b[0m\u001b[0;34m\u001b[0m\u001b[0m\n\u001b[1;32m    113\u001b[0m         \u001b[0;32mfor\u001b[0m \u001b[0mdepth\u001b[0m\u001b[0;34m,\u001b[0m \u001b[0mvalue\u001b[0m \u001b[0;32min\u001b[0m \u001b[0mzip\u001b[0m\u001b[0;34m(\u001b[0m\u001b[0mself\u001b[0m\u001b[0;34m.\u001b[0m\u001b[0mbasis\u001b[0m\u001b[0;34m[\u001b[0m\u001b[0;34m-\u001b[0m\u001b[0;36m3\u001b[0m\u001b[0;34m:\u001b[0m\u001b[0;34m]\u001b[0m\u001b[0;34m,\u001b[0m \u001b[0mself\u001b[0m\u001b[0;34m[\u001b[0m\u001b[0;34m-\u001b[0m\u001b[0;36m3\u001b[0m\u001b[0;34m:\u001b[0m\u001b[0;34m]\u001b[0m\u001b[0;34m)\u001b[0m\u001b[0;34m:\u001b[0m\u001b[0;34m\u001b[0m\u001b[0;34m\u001b[0m\u001b[0m\n",
      "\u001b[0;31mTypeError\u001b[0m: unsupported format string passed to DataArray.__format__"
     ]
    },
    {
     "data": {
      "text/plain": [
       "<__main__.Curve at 0x7f8456514ef0>"
      ]
     },
     "execution_count": 7,
     "metadata": {},
     "output_type": "execute_result"
    }
   ],
   "source": [
    "c"
   ]
  },
  {
   "cell_type": "code",
   "execution_count": 8,
   "metadata": {},
   "outputs": [
    {
     "data": {
      "text/plain": [
       "<xarray.DataArray 'DT' (MD: 10)>\n",
       "array([71.822784, 71.935768, 71.879082, 72.145882, 70.829315, 69.989731,\n",
       "       69.617439, 69.929512, 70.101883, 72.229424])\n",
       "Coordinates:\n",
       "  * MD       (MD) float64 305.9 306.0 306.2 306.3 ... 306.8 306.9 307.1 307.2"
      ]
     },
     "execution_count": 8,
     "metadata": {},
     "output_type": "execute_result"
    }
   ],
   "source": [
    "c[2000:2010]  # positional index"
   ]
  },
  {
   "cell_type": "code",
   "execution_count": 10,
   "metadata": {},
   "outputs": [
    {
     "data": {
      "text/plain": [
       "<xarray.DataArray 'DT' (MD: 9)>\n",
       "array([76.461975, 76.667618, 74.755836, 74.241592, 72.87252 , 71.822784,\n",
       "       71.935768, 71.879082, 72.145882])\n",
       "Coordinates:\n",
       "  * MD       (MD) float64 305.1 305.3 305.4 305.6 305.7 305.9 306.0 306.2 306.3"
      ]
     },
     "execution_count": 10,
     "metadata": {},
     "output_type": "execute_result"
    }
   ],
   "source": [
    "c.loc[304.987:306.345]  # Does interpolation"
   ]
  },
  {
   "cell_type": "code",
   "execution_count": 34,
   "metadata": {},
   "outputs": [
    {
     "data": {
      "text/plain": [
       "<xarray.DataArray 'DT' ()>\n",
       "array(71.921534)\n",
       "Coordinates:\n",
       "    MD       int64 306"
      ]
     },
     "execution_count": 34,
     "metadata": {},
     "output_type": "execute_result"
    }
   ],
   "source": [
    "c.interp(MD=306, method='linear')"
   ]
  },
  {
   "cell_type": "code",
   "execution_count": 35,
   "metadata": {},
   "outputs": [
    {
     "data": {
      "text/plain": [
       "<xarray.DataArray 'DT' (MD: 3)>\n",
       "array([76.061959, 71.921534, 70.004613])\n",
       "Coordinates:\n",
       "  * MD       (MD) int64 305 306 307"
      ]
     },
     "execution_count": 35,
     "metadata": {},
     "output_type": "execute_result"
    }
   ],
   "source": [
    "mds = [305, 306, 307]\n",
    "\n",
    "c.interp(MD=mds, method='linear')"
   ]
  },
  {
   "cell_type": "markdown",
   "metadata": {},
   "source": [
    "See also http://xarray.pydata.org/en/stable/interpolation.html"
   ]
  },
  {
   "cell_type": "code",
   "execution_count": 92,
   "metadata": {},
   "outputs": [
    {
     "data": {
      "text/plain": [
       "[<matplotlib.lines.Line2D at 0x7f88f92cb080>]"
      ]
     },
     "execution_count": 92,
     "metadata": {},
     "output_type": "execute_result"
    },
    {
     "data": {
      "image/png": "[encoded data removed]",
      "text/plain": [
       "<Figure size 432x288 with 1 Axes>"
      ]
     },
     "metadata": {
      "needs_background": "light"
     },
     "output_type": "display_data"
    }
   ],
   "source": [
    "%matplotlib inline\n",
    "\n",
    "c.plot()"
   ]
  },
  {
   "cell_type": "code",
   "execution_count": null,
   "metadata": {},
   "outputs": [],
   "source": []
  }
 ],
 "metadata": {
  "kernelspec": {
   "display_name": "geocomp",
   "language": "python",
   "name": "geocomp"
  },
  "language_info": {
   "codemirror_mode": {
    "name": "ipython",
    "version": 3
   },
   "file_extension": ".py",
   "mimetype": "text/x-python",
   "name": "python",
   "nbconvert_exporter": "python",
   "pygments_lexer": "ipython3",
   "version": "3.7.1"
  }
 },
 "nbformat": 4,
 "nbformat_minor": 2
}
