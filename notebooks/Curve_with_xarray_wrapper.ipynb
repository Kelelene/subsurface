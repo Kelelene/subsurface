{
 "cells": [
  {
   "cell_type": "code",
   "execution_count": 1,
   "metadata": {},
   "outputs": [],
   "source": [
    "%matplotlib inline"
   ]
  },
  {
   "cell_type": "markdown",
   "metadata": {},
   "source": [
    "# Curve with `xarray`"
   ]
  },
  {
   "cell_type": "code",
   "execution_count": 2,
   "metadata": {},
   "outputs": [],
   "source": [
    "import lasio"
   ]
  },
  {
   "cell_type": "code",
   "execution_count": 3,
   "metadata": {},
   "outputs": [],
   "source": [
    "l = lasio.read('P-129_out.LAS')"
   ]
  },
  {
   "cell_type": "code",
   "execution_count": 4,
   "metadata": {},
   "outputs": [
    {
     "data": {
      "text/plain": [
       "CurveItem(mnemonic=GR, unit=gAPI, value=, descr=Gamma-Ray, original_mnemonic=GR, data.shape=(12718,))"
      ]
     },
     "execution_count": 4,
     "metadata": {},
     "output_type": "execute_result"
    }
   ],
   "source": [
    "l.curves['GR']"
   ]
  },
  {
   "cell_type": "markdown",
   "metadata": {},
   "source": [
    "## `welly`"
   ]
  },
  {
   "cell_type": "code",
   "execution_count": 273,
   "metadata": {},
   "outputs": [
    {
     "data": {
      "text/html": [
       "<table><tr><th style=\"text-align:center;\" colspan=\"2\">GR [gAPI]</th></tr><tr><td style=\"text-align:center;\" colspan=\"2\">1.0668 : 1939.1376 : 0.1524</td></tr><tr><td><strong>run</strong></td><td>1</td></tr><tr><td><strong>null</strong></td><td>-999.25</td></tr><tr><td><strong>service_company</strong></td><td>Schlumberger</td></tr><tr><td><strong>date</strong></td><td>10-Oct-2007</td></tr><tr><td><strong>code</strong></td><td></td></tr><tr><td><strong>description</strong></td><td>Gamma-Ray</td></tr><tr><th style=\"border-top: 2px solid #000; text-align:center;\" colspan=\"2\"><strong>Stats</strong></th></tr><tr><td><strong>samples (NaNs)</strong></td><td>12718 (0)</td></tr><tr><td><strong><sub>min</sub> mean <sup>max</sup></strong></td><td><sub>3.89</sub> 78.986 <sup>267.94</sup></td></tr><tr><th style=\"border-top: 2px solid #000;\">Depth</th><th style=\"border-top: 2px solid #000;\">Value</th></tr><tr><td>1.0668</td><td>46.6987</td></tr><tr><td>1.2192</td><td>46.6987</td></tr><tr><td>1.3716</td><td>46.6987</td></tr><tr><td>⋮</td><td>⋮</td></tr><tr><td>1938.8328</td><td>92.2462</td></tr><tr><td>1938.9852</td><td>92.2462</td></tr><tr><td>1939.1376</td><td>92.2462</td></tr></table>"
      ],
      "text/plain": [
       "Curve([46.69865036, 46.69865036, 46.69865036, ..., 92.24622345,\n",
       "       92.24622345, 92.24622345])"
      ]
     },
     "execution_count": 273,
     "metadata": {},
     "output_type": "execute_result"
    }
   ],
   "source": [
    "import welly\n",
    "\n",
    "w = welly.Well.from_las('P-129_out.LAS')\n",
    "\n",
    "gr = w.data['GR']\n",
    "gr"
   ]
  },
  {
   "cell_type": "code",
   "execution_count": 274,
   "metadata": {},
   "outputs": [
    {
     "data": {
      "image/png": "[encoded data removed]",
      "text/plain": [
       "<Figure size 144x720 with 1 Axes>"
      ]
     },
     "metadata": {
      "needs_background": "light"
     },
     "output_type": "display_data"
    }
   ],
   "source": [
    "gr.plot()"
   ]
  },
  {
   "cell_type": "markdown",
   "metadata": {},
   "source": [
    "## Class definition"
   ]
  },
  {
   "cell_type": "code",
   "execution_count": 5,
   "metadata": {},
   "outputs": [],
   "source": [
    "import subsurface as swung"
   ]
  },
  {
   "cell_type": "code",
   "execution_count": 6,
   "metadata": {},
   "outputs": [],
   "source": [
    "c = swung.from_lasio(l.curves.DT, basis=l.curves.DEPT.data)"
   ]
  },
  {
   "cell_type": "code",
   "execution_count": 7,
   "metadata": {},
   "outputs": [
    {
     "data": {
      "text/html": [
       "<table><tr><th style=\"text-align:center;\" colspan=\"2\">DT [us/ft]</th></tr><tr><td style=\"text-align:center;\" colspan=\"2\">1.0668 : 1939.1376 : 0.1524</td></tr><tr><td><strong>domain</strong></td><td>MD</td></tr><tr><td><strong>run</strong></td><td>-1</td></tr><tr><td><strong>null</strong></td><td>-999.25</td></tr><tr><td><strong>service_company</strong></td><td>None</td></tr><tr><td><strong>date</strong></td><td>None</td></tr><tr><td><strong>code</strong></td><td></td></tr><tr><th style=\"border-top: 2px solid #000; text-align:center;\" colspan=\"2\"><strong>Stats</strong></th></tr><tr><td><strong>samples (NaNs)</strong></td><td>12718 (1868)</td></tr><tr><td><strong><sub>min</sub> mean <sup>max</sup></strong></td><td><sub>40.58</sub> 63.079 <sup>112.47</sup></td></tr><tr><th style=\"border-top: 2px solid #000;\">Depth</th><th style=\"border-top: 2px solid #000;\">Value</th></tr><tr><td>1.0668</td><td>nan</td></tr><tr><td>1.2192</td><td>nan</td></tr><tr><td>1.3716</td><td>nan</td></tr><tr><td>⋮</td><td>⋮</td></tr><tr><td>1938.8328</td><td>nan</td></tr><tr><td>1938.9852</td><td>nan</td></tr><tr><td>1939.1376</td><td>nan</td></tr></table>"
      ],
      "text/plain": [
       "Curve(DT, 12718 samples, start=1.0668)"
      ]
     },
     "execution_count": 7,
     "metadata": {},
     "output_type": "execute_result"
    }
   ],
   "source": [
    "c"
   ]
  },
  {
   "cell_type": "code",
   "execution_count": 8,
   "metadata": {},
   "outputs": [
    {
     "data": {
      "text/plain": [
       "array([nan, nan, nan, ..., nan, nan, nan])"
      ]
     },
     "execution_count": 8,
     "metadata": {},
     "output_type": "execute_result"
    }
   ],
   "source": [
    "c.values"
   ]
  },
  {
   "cell_type": "code",
   "execution_count": 9,
   "metadata": {},
   "outputs": [
    {
     "data": {
      "text/plain": [
       "<xarray.DataArray 'DT' (MD: 12718)>\n",
       "array([nan, nan, nan, ..., nan, nan, nan])\n",
       "Coordinates:\n",
       "  * MD       (MD) float64 1.067 1.219 1.372 ... 1.939e+03 1.939e+03 1.939e+03"
      ]
     },
     "execution_count": 9,
     "metadata": {},
     "output_type": "execute_result"
    }
   ],
   "source": [
    "c._xarray"
   ]
  },
  {
   "cell_type": "code",
   "execution_count": 10,
   "metadata": {},
   "outputs": [
    {
     "data": {
      "image/png": "[encoded data removed]",
      "text/plain": [
       "<Figure size 144x720 with 1 Axes>"
      ]
     },
     "metadata": {
      "needs_background": "light"
     },
     "output_type": "display_data"
    }
   ],
   "source": [
    "c.plot()"
   ]
  },
  {
   "cell_type": "code",
   "execution_count": 11,
   "metadata": {},
   "outputs": [
    {
     "data": {
      "text/plain": [
       "<xarray.DataArray 'DT' (MD: 12718)>\n",
       "array([nan, nan, nan, ..., nan, nan, nan])\n",
       "Coordinates:\n",
       "  * MD       (MD) float64 1.067 1.219 1.372 ... 1.939e+03 1.939e+03 1.939e+03"
      ]
     },
     "execution_count": 11,
     "metadata": {},
     "output_type": "execute_result"
    }
   ],
   "source": [
    "c._xarray"
   ]
  },
  {
   "cell_type": "code",
   "execution_count": 12,
   "metadata": {},
   "outputs": [
    {
     "data": {
      "text/html": [
       "<table><tr><th style=\"text-align:center;\" colspan=\"2\">DT [us/ft]</th></tr><tr><td style=\"text-align:center;\" colspan=\"2\">763.0668 : 778.1544 : 0.1524</td></tr><tr><td><strong>domain</strong></td><td>MD</td></tr><tr><td><strong>run</strong></td><td>-1</td></tr><tr><td><strong>null</strong></td><td>-999.25</td></tr><tr><td><strong>service_company</strong></td><td>None</td></tr><tr><td><strong>date</strong></td><td>None</td></tr><tr><td><strong>code</strong></td><td></td></tr><tr><th style=\"border-top: 2px solid #000; text-align:center;\" colspan=\"2\"><strong>Stats</strong></th></tr><tr><td><strong>samples (NaNs)</strong></td><td>100 (0)</td></tr><tr><td><strong><sub>min</sub> mean <sup>max</sup></strong></td><td><sub>50.09</sub> 51.511 <sup>53.46</sup></td></tr><tr><th style=\"border-top: 2px solid #000;\">Depth</th><th style=\"border-top: 2px solid #000;\">Value</th></tr><tr><td>763.0668</td><td>51.7741</td></tr><tr><td>763.2192</td><td>51.8778</td></tr><tr><td>763.3716</td><td>51.8284</td></tr><tr><td>⋮</td><td>⋮</td></tr><tr><td>777.8496</td><td>51.4617</td></tr><tr><td>778.0020</td><td>51.3933</td></tr><tr><td>778.1544</td><td>51.2482</td></tr></table>"
      ],
      "text/plain": [
       "Curve(DT, 100 samples, start=763.0668)"
      ]
     },
     "execution_count": 12,
     "metadata": {},
     "output_type": "execute_result"
    }
   ],
   "source": [
    "c[5000:5100]"
   ]
  },
  {
   "cell_type": "code",
   "execution_count": 13,
   "metadata": {},
   "outputs": [
    {
     "data": {
      "text/plain": [
       "<xarray.DataArray 'DT' ()>\n",
       "array(51.828415)\n",
       "Coordinates:\n",
       "    MD       float64 763.4"
      ]
     },
     "execution_count": 13,
     "metadata": {},
     "output_type": "execute_result"
    }
   ],
   "source": [
    "c.loc[763.3716]"
   ]
  },
  {
   "cell_type": "code",
   "execution_count": 14,
   "metadata": {},
   "outputs": [
    {
     "data": {
      "text/plain": [
       "<xarray.DataArray 'DT' ()>\n",
       "array(51.851635)\n",
       "Coordinates:\n",
       "    MD       float64 763.3"
      ]
     },
     "execution_count": 14,
     "metadata": {},
     "output_type": "execute_result"
    }
   ],
   "source": [
    "c.interp(MD=763.3)"
   ]
  },
  {
   "cell_type": "code",
   "execution_count": 15,
   "metadata": {},
   "outputs": [
    {
     "data": {
      "text/plain": [
       "<xarray.DataArray 'DT' (MD: 4)>\n",
       "array([75.880272, 71.935768, 69.929512, 72.704247])\n",
       "Coordinates:\n",
       "  * MD       (MD) int64 305 306 307 308"
      ]
     },
     "execution_count": 15,
     "metadata": {},
     "output_type": "execute_result"
    }
   ],
   "source": [
    "mds = [305, 306, 307, 308]\n",
    "\n",
    "c.interp(MD=mds, method='nearest')"
   ]
  },
  {
   "cell_type": "markdown",
   "metadata": {},
   "source": [
    "See also http://xarray.pydata.org/en/stable/interpolation.html"
   ]
  }
 ],
 "metadata": {
  "kernelspec": {
   "display_name": "subsurface",
   "language": "python",
   "name": "subsurface"
  },
  "language_info": {
   "codemirror_mode": {
    "name": "ipython",
    "version": 3
   },
   "file_extension": ".py",
   "mimetype": "text/x-python",
   "name": "python",
   "nbconvert_exporter": "python",
   "pygments_lexer": "ipython3",
   "version": "3.7.3"
  }
 },
 "nbformat": 4,
 "nbformat_minor": 2
}
